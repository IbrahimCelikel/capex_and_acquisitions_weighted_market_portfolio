{
 "cells": [
  {
   "cell_type": "markdown",
   "metadata": {},
   "source": [
    "# Explanations are in the README.md"
   ]
  },
  {
   "cell_type": "code",
   "execution_count": 5,
   "metadata": {},
   "outputs": [],
   "source": [
    "import pandas as pd\n",
    "import datetime as dt\n",
    "import csv"
   ]
  },
  {
   "cell_type": "code",
   "execution_count": 6,
   "metadata": {},
   "outputs": [],
   "source": [
    "df = pd.read_csv('C:/depo/repositories/sp500 r&d based market portfolio/tickers_for_prices_and_dividends.csv')\n",
    "tickers = df['tickers']\n",
    "for ticker in tickers:\n",
    "    try:\n",
    "        file = \"C:/depo/repositories/sp500 r&d based market portfolio/stock prices/\" + ticker + \".csv\"\n",
    "        ticker_file = pd.read_csv(file)\n",
    "        last_day_2018 = ticker_file[(ticker_file['Date'] > '2018-12-01 00:00:00') & (ticker_file['Date'] < '2018-12-31 23:59:59')]\n",
    "        last_day_2018 = last_day_2018.iloc[-1]\n",
    "        last_day_2019 = ticker_file[(ticker_file['Date'] > '2019-12-01 00:00:00') & (ticker_file['Date'] < '2019-12-31 23:59:59')]\n",
    "        last_day_2019 = last_day_2019.iloc[-1]\n",
    "        last_day_2020 = ticker_file[(ticker_file['Date'] > '2020-12-01 00:00:00') & (ticker_file['Date'] < '2020-12-31 23:59:59')]\n",
    "        last_day_2020 = last_day_2020.iloc[-1]\n",
    "        last_day_2021 = ticker_file[(ticker_file['Date'] > '2021-12-01 00:00:00') & (ticker_file['Date'] < '2021-12-31 23:59:59')]\n",
    "        last_day_2021 = last_day_2021.iloc[-1]\n",
    "        last_day_2022 = ticker_file[(ticker_file['Date'] > '2022-12-01 00:00:00') & (ticker_file['Date'] < '2022-12-31 23:59:59')]\n",
    "        last_day_2022 = last_day_2022.iloc[-1]\n",
    "\n",
    "        days2018 = ticker_file[(ticker_file['Date'] > '2018-01-01 00:00:00') & (ticker_file['Date'] < '2018-12-31 23:59:59')]\n",
    "        dividends2018 = days2018['Dividends'].sum()\n",
    "        days2019 = ticker_file[(ticker_file['Date'] > '2019-01-01 00:00:00') & (ticker_file['Date'] < '2019-12-31 23:59:59')]\n",
    "        dividends2019 = days2019['Dividends'].sum()\n",
    "        days2020 = ticker_file[(ticker_file['Date'] > '2020-01-01 00:00:00') & (ticker_file['Date'] < '2020-12-31 23:59:59')]\n",
    "        dividends2020 = days2020['Dividends'].sum()\n",
    "        days2021 = ticker_file[(ticker_file['Date'] > '2021-01-01 00:00:00') & (ticker_file['Date'] < '2021-12-31 23:59:59')]\n",
    "        dividends2021 = days2021['Dividends'].sum()\n",
    "        days2022 = ticker_file[(ticker_file['Date'] > '2022-01-01 00:00:00') & (ticker_file['Date'] < '2022-12-31 23:59:59')]\n",
    "        dividends2022 = days2022['Dividends'].sum()\n",
    "\n",
    "        prices_mined = open(\"C:/depo/repositories/sp500 r&d based market portfolio/prices_mined.csv\", \"a\", newline='')\n",
    "        writer = csv.writer(prices_mined)\n",
    "        \n",
    "        writer.writerow([\n",
    "            ticker,\n",
    "            last_day_2018, \n",
    "            last_day_2019, \n",
    "            last_day_2020, \n",
    "            last_day_2021, \n",
    "            last_day_2022, \n",
    "            dividends2018, \n",
    "            dividends2019, \n",
    "            dividends2020, \n",
    "            dividends2021, \n",
    "            dividends2022,\n",
    "            ])\n",
    "        \n",
    "        file.close()\n",
    "        \n",
    "    except:\n",
    "        pass"
   ]
  },
  {
   "cell_type": "code",
   "execution_count": null,
   "metadata": {},
   "outputs": [],
   "source": []
  }
 ],
 "metadata": {
  "kernelspec": {
   "display_name": "learningEnv",
   "language": "python",
   "name": "python3"
  },
  "language_info": {
   "codemirror_mode": {
    "name": "ipython",
    "version": 3
   },
   "file_extension": ".py",
   "mimetype": "text/x-python",
   "name": "python",
   "nbconvert_exporter": "python",
   "pygments_lexer": "ipython3",
   "version": "3.11.4"
  },
  "orig_nbformat": 4
 },
 "nbformat": 4,
 "nbformat_minor": 2
}
