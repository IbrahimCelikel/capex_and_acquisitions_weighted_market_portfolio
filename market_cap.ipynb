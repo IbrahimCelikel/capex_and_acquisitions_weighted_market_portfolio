{
 "cells": [
  {
   "cell_type": "markdown",
   "metadata": {},
   "source": [
    "# Explanations are in the README.md"
   ]
  },
  {
   "cell_type": "code",
   "execution_count": 2,
   "metadata": {},
   "outputs": [],
   "source": [
    "from selenium import webdriver\n",
    "from selenium.webdriver.chrome.service import Service as ChromeService\n",
    "from webdriver_manager.chrome import ChromeDriverManager\n",
    "from selenium.webdriver.common.keys import Keys\n",
    "from selenium.webdriver.common.by import By\n",
    "import time\n",
    "import pandas as pd\n",
    "import csv"
   ]
  },
  {
   "cell_type": "code",
   "execution_count": 3,
   "metadata": {},
   "outputs": [],
   "source": [
    "driver = webdriver.Chrome()\n",
    "\n",
    "driver.get(\"https://companiesmarketcap.com/\")\n",
    "search_box = driver.find_element(By.XPATH, '//*[@id=\"search-input\"]')\n",
    "\n",
    "tickers = pd.read_csv('C:/depo/repositories/sp500 r&d based market portfolio/tickers.csv')\n",
    "for ticker in tickers['tickers']:\n",
    "    try:\n",
    "        search_box.clear()\n",
    "        time.sleep(2)\n",
    "        search_box.send_keys(ticker)\n",
    "        time.sleep(2)\n",
    "        \n",
    "        company_url = driver.find_element(By.XPATH,'//*[@id=\"typeahead-search-results\"]/a')\n",
    "        company_url = company_url.get_attribute('href')\n",
    "\n",
    "        file = open(\"C:/depo/repositories/sp500 r&d based market portfolio/market_caps/urls.csv\", \"a\", newline='')\n",
    "        writer = csv.writer(file)\n",
    "        writer.writerow([ticker, company_url])\n",
    "        file.close()\n",
    "\n",
    "    except:\n",
    "        pass"
   ]
  },
  {
   "cell_type": "code",
   "execution_count": null,
   "metadata": {},
   "outputs": [],
   "source": []
  }
 ],
 "metadata": {
  "kernelspec": {
   "display_name": "learningEnv",
   "language": "python",
   "name": "python3"
  },
  "language_info": {
   "codemirror_mode": {
    "name": "ipython",
    "version": 3
   },
   "file_extension": ".py",
   "mimetype": "text/x-python",
   "name": "python",
   "nbconvert_exporter": "python",
   "pygments_lexer": "ipython3",
   "version": "3.11.4"
  },
  "orig_nbformat": 4
 },
 "nbformat": 4,
 "nbformat_minor": 2
}
