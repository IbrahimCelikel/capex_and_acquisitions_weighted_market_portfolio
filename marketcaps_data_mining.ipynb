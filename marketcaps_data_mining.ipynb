{
 "cells": [
  {
   "cell_type": "markdown",
   "metadata": {},
   "source": [
    "# Explanations are in the README.md"
   ]
  },
  {
   "cell_type": "code",
   "execution_count": 185,
   "metadata": {},
   "outputs": [],
   "source": [
    "import pandas as pd\n",
    "import csv\n",
    "import re"
   ]
  },
  {
   "cell_type": "code",
   "execution_count": 26,
   "metadata": {},
   "outputs": [],
   "source": [
    "market_values = []\n",
    "df = pd.DataFrame(market_values)\n",
    "\n",
    "tickers = pd.read_csv(\"C:/depo/repositories/sp500 r&d based market portfolio/market_caps/tickers_urls.csv\")\n",
    "\n",
    "for ticker in tickers['ticker']:    \n",
    "    try :\n",
    "        file_path = \"C:/depo/repositories/sp500 r&d based market portfolio/market_caps/\" + ticker + \".csv\"\n",
    "        df2 = pd.read_csv(file_path, header=None)\n",
    "        \n",
    "        df2.columns = ['data']\n",
    "        df2[['year', 'market_cap', 'change']] = df2['data'].str.split(',', expand=True)\n",
    "        df2 = df2.drop(['data'], axis=1)\n",
    "        df2 = df2.drop(['change'], axis=1)\n",
    "        df2['year'] = df2['year'].replace(\"[\\',)]\", '',  regex = True)\n",
    "        df2['year'] = df2['year'].replace(\"[\\[,)]\", '',  regex = True)\n",
    "        df2['year'] = df2['year'].replace(\"[\\ ,)]\", '',  regex = True)\n",
    "        df2['market_cap'] = df2['market_cap'].replace('[\\$,)]', '',  regex = True)\n",
    "        df2['market_cap'] = df2['market_cap'].replace(\"[\\',)]\", '',  regex = True)\n",
    "        df2['market_cap'] = df2['market_cap'].replace(\"[\\],)]\", '',  regex = True)\n",
    "        df2['market_cap'] = df2['market_cap'].replace(\"[\\ ,)]\", '',  regex = True)\n",
    "        df2['market_cap'] = df2['market_cap'].replace(\"K\", ' K',  regex = True)\n",
    "        df2['market_cap'] = df2['market_cap'].replace(\"M\", ' M',  regex = True)\n",
    "        df2['market_cap'] = df2['market_cap'].replace(\"B\", ' B',  regex = True)\n",
    "        df2['market_cap'] = df2['market_cap'].replace(\"T\", ' T',  regex = True)\n",
    "        df2[['a', 'b']] = df2['market_cap'].str.split(' ', expand=True)\n",
    "        df2['b'] = df2['b'].replace(\"K\", '1000',  regex = True)\n",
    "        df2['b'] = df2['b'].replace(\"M\", '1000000',  regex = True)\n",
    "        df2['b'] = df2['b'].replace(\"B\", '1000000000',  regex = True)\n",
    "        df2['b'] = df2['b'].replace(\"T\", '1000000000000',  regex = True)\n",
    "        df2['market_cap'] = (df2['a'].astype(float)) * (df2['b'].astype(float))\n",
    "        df2 = df2.drop(['a'], axis=1)\n",
    "        df2 = df2.drop(['b'], axis=1)\n",
    "\n",
    "        mv2018_ = df2[df2['year'] == '2018']\n",
    "        mv2018 = mv2018_.drop(['year'], axis=1)\n",
    "\n",
    "        mv2019_ = df2[df2['year'] == '2019']\n",
    "        mv2019 = mv2019_.drop(['year'], axis=1)\n",
    "\n",
    "        mv2020_ = df2[df2['year'] == '2020']\n",
    "        mv2020 = mv2020_.drop(['year'], axis=1)\n",
    "\n",
    "        mv2021_ = df2[df2['year'] == '2021']\n",
    "        mv2021 = mv2021_.drop(['year'], axis=1)\n",
    "\n",
    "        mv2022_ = df2[df2['year'] == '2022']\n",
    "        mv2022 = mv2022_.drop(['year'], axis=1)\n",
    "\n",
    "        mv2023_ = df2[df2['year'] == '2023']\n",
    "        mv2023 = mv2023_.drop(['year'], axis=1)\n",
    "\n",
    "        file = open(\"C:/depo/repositories/sp500 r&d based market portfolio/market_values.csv\", \"a\", newline='')\n",
    "        writer = csv.writer(file)\n",
    "        writer.writerow([ticker,mv2018,mv2019,mv2020,mv2021,mv2022,mv2023])\n",
    "        file.close()\n",
    "    except:\n",
    "        pass"
   ]
  },
  {
   "cell_type": "code",
   "execution_count": null,
   "metadata": {},
   "outputs": [],
   "source": []
  }
 ],
 "metadata": {
  "kernelspec": {
   "display_name": "learningEnv",
   "language": "python",
   "name": "python3"
  },
  "language_info": {
   "codemirror_mode": {
    "name": "ipython",
    "version": 3
   },
   "file_extension": ".py",
   "mimetype": "text/x-python",
   "name": "python",
   "nbconvert_exporter": "python",
   "pygments_lexer": "ipython3",
   "version": "3.11.4"
  },
  "orig_nbformat": 4
 },
 "nbformat": 4,
 "nbformat_minor": 2
}
