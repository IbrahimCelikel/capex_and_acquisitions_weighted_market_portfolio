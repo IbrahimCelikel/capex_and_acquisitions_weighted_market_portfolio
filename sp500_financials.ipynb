{
 "cells": [
  {
   "cell_type": "markdown",
   "metadata": {},
   "source": [
    "# Explanations are in the README.md"
   ]
  },
  {
   "cell_type": "code",
   "execution_count": 1,
   "metadata": {},
   "outputs": [],
   "source": [
    "import pandas as pd\n",
    "import csv"
   ]
  },
  {
   "cell_type": "code",
   "execution_count": 2,
   "metadata": {},
   "outputs": [
    {
     "data": {
      "text/plain": [
       "0         A\n",
       "1       AAL\n",
       "2       AAP\n",
       "3      AAPL\n",
       "4      ABBV\n",
       "       ... \n",
       "550       M\n",
       "551     RTN\n",
       "552    ARNC\n",
       "553     XEC\n",
       "554     WCG\n",
       "Name: tickers, Length: 555, dtype: object"
      ]
     },
     "execution_count": 2,
     "metadata": {},
     "output_type": "execute_result"
    }
   ],
   "source": [
    "tickers = pd.read_csv('C:/depo/repositories/sp500 r&d based market portfolio/tickers_for_prices_and_financials.csv')\n",
    "tickers['tickers']"
   ]
  },
  {
   "cell_type": "code",
   "execution_count": 3,
   "metadata": {},
   "outputs": [],
   "source": [
    "for ticker in tickers['tickers']:\n",
    "    try:\n",
    "        url = \"https://www.marketwatch.com/investing/stock/\" + ticker + \"/financials/cash-flow\"\n",
    "        data = pd.read_html(url)\n",
    "        df = data[5]\n",
    "        file = open(\"C:/depo/repositories/sp500 r&d based market portfolio/scraped_data.csv\", \"a\", newline='')\n",
    "        writer = csv.writer(file)\n",
    "        writer.writerow([ticker,df])\n",
    "        file.close()\n",
    "    except:\n",
    "        pass"
   ]
  },
  {
   "cell_type": "code",
   "execution_count": null,
   "metadata": {},
   "outputs": [],
   "source": []
  }
 ],
 "metadata": {
  "kernelspec": {
   "display_name": "learningEnv",
   "language": "python",
   "name": "python3"
  },
  "language_info": {
   "codemirror_mode": {
    "name": "ipython",
    "version": 3
   },
   "file_extension": ".py",
   "mimetype": "text/x-python",
   "name": "python",
   "nbconvert_exporter": "python",
   "pygments_lexer": "ipython3",
   "version": "3.11.4"
  },
  "orig_nbformat": 4
 },
 "nbformat": 4,
 "nbformat_minor": 2
}
